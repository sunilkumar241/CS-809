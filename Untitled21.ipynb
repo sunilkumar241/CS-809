{
  "nbformat": 4,
  "nbformat_minor": 0,
  "metadata": {
    "colab": {
      "name": "Untitled21.ipynb",
      "provenance": [],
      "collapsed_sections": [],
      "authorship_tag": "ABX9TyOfcSLX4YNqh29vK2wCEuyb",
      "include_colab_link": true
    },
    "kernelspec": {
      "name": "python3",
      "display_name": "Python 3"
    },
    "language_info": {
      "name": "python"
    }
  },
  "cells": [
    {
      "cell_type": "markdown",
      "metadata": {
        "id": "view-in-github",
        "colab_type": "text"
      },
      "source": [
        "<a href=\"https://colab.research.google.com/github/sunilkumar241/CS-809/blob/master/Untitled21.ipynb\" target=\"_parent\"><img src=\"https://colab.research.google.com/assets/colab-badge.svg\" alt=\"Open In Colab\"/></a>"
      ]
    },
    {
      "cell_type": "code",
      "metadata": {
        "colab": {
          "base_uri": "https://localhost:8080/"
        },
        "id": "mm5b-uBmg9gZ",
        "outputId": "1dbd4476-a835-441d-f466-20c5a7e4b4d8"
      },
      "source": [
        "pip install pmdarima"
      ],
      "execution_count": 1,
      "outputs": [
        {
          "output_type": "stream",
          "name": "stdout",
          "text": [
            "Collecting pmdarima\n",
            "  Downloading pmdarima-1.8.3-cp37-cp37m-manylinux_2_17_x86_64.manylinux2014_x86_64.manylinux_2_24_x86_64.whl (1.4 MB)\n",
            "\u001b[K     |████████████████████████████████| 1.4 MB 4.3 MB/s \n",
            "\u001b[?25hRequirement already satisfied: scipy>=1.3.2 in /usr/local/lib/python3.7/dist-packages (from pmdarima) (1.4.1)\n",
            "Requirement already satisfied: numpy>=1.19.3 in /usr/local/lib/python3.7/dist-packages (from pmdarima) (1.19.5)\n",
            "Requirement already satisfied: setuptools!=50.0.0,>=38.6.0 in /usr/local/lib/python3.7/dist-packages (from pmdarima) (57.4.0)\n",
            "Requirement already satisfied: pandas>=0.19 in /usr/local/lib/python3.7/dist-packages (from pmdarima) (1.1.5)\n",
            "Requirement already satisfied: scikit-learn>=0.22 in /usr/local/lib/python3.7/dist-packages (from pmdarima) (0.22.2.post1)\n",
            "Collecting statsmodels!=0.12.0,>=0.11\n",
            "  Downloading statsmodels-0.13.0-cp37-cp37m-manylinux_2_17_x86_64.manylinux2014_x86_64.whl (9.8 MB)\n",
            "\u001b[K     |████████████████████████████████| 9.8 MB 16.3 MB/s \n",
            "\u001b[?25hRequirement already satisfied: Cython!=0.29.18,>=0.29 in /usr/local/lib/python3.7/dist-packages (from pmdarima) (0.29.24)\n",
            "Requirement already satisfied: urllib3 in /usr/local/lib/python3.7/dist-packages (from pmdarima) (1.24.3)\n",
            "Requirement already satisfied: joblib>=0.11 in /usr/local/lib/python3.7/dist-packages (from pmdarima) (1.0.1)\n",
            "Requirement already satisfied: pytz>=2017.2 in /usr/local/lib/python3.7/dist-packages (from pandas>=0.19->pmdarima) (2018.9)\n",
            "Requirement already satisfied: python-dateutil>=2.7.3 in /usr/local/lib/python3.7/dist-packages (from pandas>=0.19->pmdarima) (2.8.2)\n",
            "Requirement already satisfied: six>=1.5 in /usr/local/lib/python3.7/dist-packages (from python-dateutil>=2.7.3->pandas>=0.19->pmdarima) (1.15.0)\n",
            "Requirement already satisfied: patsy>=0.5.2 in /usr/local/lib/python3.7/dist-packages (from statsmodels!=0.12.0,>=0.11->pmdarima) (0.5.2)\n",
            "Installing collected packages: statsmodels, pmdarima\n",
            "  Attempting uninstall: statsmodels\n",
            "    Found existing installation: statsmodels 0.10.2\n",
            "    Uninstalling statsmodels-0.10.2:\n",
            "      Successfully uninstalled statsmodels-0.10.2\n",
            "Successfully installed pmdarima-1.8.3 statsmodels-0.13.0\n"
          ]
        }
      ]
    },
    {
      "cell_type": "code",
      "metadata": {
        "id": "njMOrZ5bhNWI"
      },
      "source": [
        "import pandas as pd\n",
        "import numpy as np"
      ],
      "execution_count": 2,
      "outputs": []
    },
    {
      "cell_type": "code",
      "metadata": {
        "colab": {
          "base_uri": "https://localhost:8080/",
          "height": 713
        },
        "id": "uVgQJB9bhWk9",
        "outputId": "aae02822-779e-4fad-bed9-f24fb84af74b"
      },
      "source": [
        "df=pd.read_csv('delhi.csv',index_col='Date'   ,parse_dates=True)\n",
        "df=df.dropna()\n",
        "print('Shape of data',df.shape)\n",
        "df.head()\n",
        "df"
      ],
      "execution_count": 4,
      "outputs": [
        {
          "output_type": "stream",
          "name": "stdout",
          "text": [
            "Shape of data (20, 5)\n"
          ]
        },
        {
          "output_type": "execute_result",
          "data": {
            "text/html": [
              "<div>\n",
              "<style scoped>\n",
              "    .dataframe tbody tr th:only-of-type {\n",
              "        vertical-align: middle;\n",
              "    }\n",
              "\n",
              "    .dataframe tbody tr th {\n",
              "        vertical-align: top;\n",
              "    }\n",
              "\n",
              "    .dataframe thead th {\n",
              "        text-align: right;\n",
              "    }\n",
              "</style>\n",
              "<table border=\"1\" class=\"dataframe\">\n",
              "  <thead>\n",
              "    <tr style=\"text-align: right;\">\n",
              "      <th></th>\n",
              "      <th>NO2</th>\n",
              "      <th>SO2</th>\n",
              "      <th>CO</th>\n",
              "      <th>Temperature</th>\n",
              "      <th>Humidity</th>\n",
              "    </tr>\n",
              "    <tr>\n",
              "      <th>Date</th>\n",
              "      <th></th>\n",
              "      <th></th>\n",
              "      <th></th>\n",
              "      <th></th>\n",
              "      <th></th>\n",
              "    </tr>\n",
              "  </thead>\n",
              "  <tbody>\n",
              "    <tr>\n",
              "      <th>2021-10-01</th>\n",
              "      <td>22.5</td>\n",
              "      <td>11.0</td>\n",
              "      <td>1299.9</td>\n",
              "      <td>34</td>\n",
              "      <td>89</td>\n",
              "    </tr>\n",
              "    <tr>\n",
              "      <th>2021-10-02</th>\n",
              "      <td>29.3</td>\n",
              "      <td>7.3</td>\n",
              "      <td>855.4</td>\n",
              "      <td>35</td>\n",
              "      <td>96</td>\n",
              "    </tr>\n",
              "    <tr>\n",
              "      <th>2021-10-03</th>\n",
              "      <td>19.4</td>\n",
              "      <td>7.7</td>\n",
              "      <td>865.8</td>\n",
              "      <td>36</td>\n",
              "      <td>86</td>\n",
              "    </tr>\n",
              "    <tr>\n",
              "      <th>2021-10-04</th>\n",
              "      <td>20.1</td>\n",
              "      <td>8.4</td>\n",
              "      <td>950.9</td>\n",
              "      <td>36</td>\n",
              "      <td>90</td>\n",
              "    </tr>\n",
              "    <tr>\n",
              "      <th>2021-10-05</th>\n",
              "      <td>20.4</td>\n",
              "      <td>8.4</td>\n",
              "      <td>911.9</td>\n",
              "      <td>35</td>\n",
              "      <td>81</td>\n",
              "    </tr>\n",
              "    <tr>\n",
              "      <th>2021-10-06</th>\n",
              "      <td>19.2</td>\n",
              "      <td>8.1</td>\n",
              "      <td>807.2</td>\n",
              "      <td>35</td>\n",
              "      <td>82</td>\n",
              "    </tr>\n",
              "    <tr>\n",
              "      <th>2021-10-07</th>\n",
              "      <td>25.7</td>\n",
              "      <td>8.9</td>\n",
              "      <td>994.0</td>\n",
              "      <td>35</td>\n",
              "      <td>86</td>\n",
              "    </tr>\n",
              "    <tr>\n",
              "      <th>2021-10-08</th>\n",
              "      <td>31.1</td>\n",
              "      <td>12.3</td>\n",
              "      <td>1210.2</td>\n",
              "      <td>35</td>\n",
              "      <td>89</td>\n",
              "    </tr>\n",
              "    <tr>\n",
              "      <th>2021-10-09</th>\n",
              "      <td>35.0</td>\n",
              "      <td>12.4</td>\n",
              "      <td>1135.2</td>\n",
              "      <td>36</td>\n",
              "      <td>84</td>\n",
              "    </tr>\n",
              "    <tr>\n",
              "      <th>2021-10-10</th>\n",
              "      <td>36.2</td>\n",
              "      <td>12.3</td>\n",
              "      <td>1320.7</td>\n",
              "      <td>37</td>\n",
              "      <td>86</td>\n",
              "    </tr>\n",
              "    <tr>\n",
              "      <th>2021-10-11</th>\n",
              "      <td>33.9</td>\n",
              "      <td>11.9</td>\n",
              "      <td>1271.3</td>\n",
              "      <td>37</td>\n",
              "      <td>89</td>\n",
              "    </tr>\n",
              "    <tr>\n",
              "      <th>2021-10-12</th>\n",
              "      <td>33.8</td>\n",
              "      <td>11.0</td>\n",
              "      <td>935.9</td>\n",
              "      <td>37</td>\n",
              "      <td>89</td>\n",
              "    </tr>\n",
              "    <tr>\n",
              "      <th>2021-10-13</th>\n",
              "      <td>35.2</td>\n",
              "      <td>10.0</td>\n",
              "      <td>916.9</td>\n",
              "      <td>36</td>\n",
              "      <td>83</td>\n",
              "    </tr>\n",
              "    <tr>\n",
              "      <th>2021-10-14</th>\n",
              "      <td>41.2</td>\n",
              "      <td>9.8</td>\n",
              "      <td>988.7</td>\n",
              "      <td>35</td>\n",
              "      <td>79</td>\n",
              "    </tr>\n",
              "    <tr>\n",
              "      <th>2021-10-15</th>\n",
              "      <td>45.0</td>\n",
              "      <td>10.3</td>\n",
              "      <td>1345.0</td>\n",
              "      <td>38</td>\n",
              "      <td>81</td>\n",
              "    </tr>\n",
              "    <tr>\n",
              "      <th>2021-10-16</th>\n",
              "      <td>45.9</td>\n",
              "      <td>12.9</td>\n",
              "      <td>1503.5</td>\n",
              "      <td>34</td>\n",
              "      <td>88</td>\n",
              "    </tr>\n",
              "    <tr>\n",
              "      <th>2021-10-17</th>\n",
              "      <td>22.2</td>\n",
              "      <td>5.9</td>\n",
              "      <td>716.7</td>\n",
              "      <td>35</td>\n",
              "      <td>84</td>\n",
              "    </tr>\n",
              "    <tr>\n",
              "      <th>2021-10-18</th>\n",
              "      <td>23.2</td>\n",
              "      <td>6.7</td>\n",
              "      <td>732.8</td>\n",
              "      <td>31</td>\n",
              "      <td>100</td>\n",
              "    </tr>\n",
              "    <tr>\n",
              "      <th>2021-10-19</th>\n",
              "      <td>32.9</td>\n",
              "      <td>8.1</td>\n",
              "      <td>963.1</td>\n",
              "      <td>24</td>\n",
              "      <td>96</td>\n",
              "    </tr>\n",
              "    <tr>\n",
              "      <th>2021-10-20</th>\n",
              "      <td>43.8</td>\n",
              "      <td>10.6</td>\n",
              "      <td>1323.3</td>\n",
              "      <td>30</td>\n",
              "      <td>91</td>\n",
              "    </tr>\n",
              "  </tbody>\n",
              "</table>\n",
              "</div>"
            ],
            "text/plain": [
              "             NO2   SO2      CO  Temperature   Humidity\n",
              "Date                                                  \n",
              "2021-10-01  22.5  11.0  1299.9            34        89\n",
              "2021-10-02  29.3   7.3   855.4            35        96\n",
              "2021-10-03  19.4   7.7   865.8            36        86\n",
              "2021-10-04  20.1   8.4   950.9            36        90\n",
              "2021-10-05  20.4   8.4   911.9            35        81\n",
              "2021-10-06  19.2   8.1   807.2            35        82\n",
              "2021-10-07  25.7   8.9   994.0            35        86\n",
              "2021-10-08  31.1  12.3  1210.2            35        89\n",
              "2021-10-09  35.0  12.4  1135.2            36        84\n",
              "2021-10-10  36.2  12.3  1320.7            37        86\n",
              "2021-10-11  33.9  11.9  1271.3            37        89\n",
              "2021-10-12  33.8  11.0   935.9            37        89\n",
              "2021-10-13  35.2  10.0   916.9            36        83\n",
              "2021-10-14  41.2   9.8   988.7            35        79\n",
              "2021-10-15  45.0  10.3  1345.0            38        81\n",
              "2021-10-16  45.9  12.9  1503.5            34        88\n",
              "2021-10-17  22.2   5.9   716.7            35        84\n",
              "2021-10-18  23.2   6.7   732.8            31       100\n",
              "2021-10-19  32.9   8.1   963.1            24        96\n",
              "2021-10-20  43.8  10.6  1323.3            30        91"
            ]
          },
          "metadata": {},
          "execution_count": 4
        }
      ]
    },
    {
      "cell_type": "code",
      "metadata": {
        "colab": {
          "base_uri": "https://localhost:8080/",
          "height": 374
        },
        "id": "AC5QVSDsh5nD",
        "outputId": "576e62f1-72fe-4e44-9b2d-e9cefdc9bb71"
      },
      "source": [
        "df['NO2'].plot(figsize=(12,5))"
      ],
      "execution_count": 250,
      "outputs": [
        {
          "output_type": "execute_result",
          "data": {
            "text/plain": [
              "<matplotlib.axes._subplots.AxesSubplot at 0x7f867348f810>"
            ]
          },
          "metadata": {},
          "execution_count": 250
        },
        {
          "output_type": "display_data",
          "data": {
            "image/png": "[encoded data removed]",
            "text/plain": [
              "<Figure size 864x360 with 1 Axes>"
            ]
          },
          "metadata": {
            "needs_background": "light"
          }
        }
      ]
    },
    {
      "cell_type": "code",
      "metadata": {
        "id": "S4iIaoi_h_r8"
      },
      "source": [
        "from statsmodels.tsa.stattools import adfuller\n",
        "def ad_test(dataset):\n",
        "     dftest = adfuller(dataset, autolag = 'AIC')\n",
        "     print(\"1. ADF : \",dftest[0])\n",
        "     print(\"2. P-Value : \", dftest[1])\n",
        "     print(\"3. Num Of Lags : \", dftest[2])\n",
        "     print(\"4. Num Of Observations Used For ADF Regression:\",dftest[3])\n",
        "     print(\"5. Critical Values :\")\n",
        "     for key, val in dftest[4].items():\n",
        "         print(\"\\t\",key, \": \", val)\n"
      ],
      "execution_count": 225,
      "outputs": []
    },
    {
      "cell_type": "code",
      "metadata": {
        "colab": {
          "base_uri": "https://localhost:8080/"
        },
        "id": "rWYV-NRuiJoX",
        "outputId": "df5cd17c-23b8-447c-b650-f4a09281dac9"
      },
      "source": [
        "ad_test(df['NO2'])"
      ],
      "execution_count": 251,
      "outputs": [
        {
          "output_type": "stream",
          "name": "stdout",
          "text": [
            "1. ADF :  -5.493602199977059\n",
            "2. P-Value :  2.1478856918303922e-06\n",
            "3. Num Of Lags :  8\n",
            "4. Num Of Observations Used For ADF Regression: 11\n",
            "5. Critical Values :\n",
            "\t 1% :  -4.223238279489106\n",
            "\t 5% :  -3.189368925619835\n",
            "\t 10% :  -2.729839421487603\n"
          ]
        }
      ]
    },
    {
      "cell_type": "code",
      "metadata": {
        "id": "_OhxI2iciVRl"
      },
      "source": [
        "from pmdarima import auto_arima\n",
        "#Ignore harmless warnings\n",
        "import warnings\n",
        "warnings.filterwarnings(\"ignore\")\n"
      ],
      "execution_count": 227,
      "outputs": []
    },
    {
      "cell_type": "code",
      "metadata": {
        "colab": {
          "base_uri": "https://localhost:8080/"
        },
        "id": "dZq1dWE6jl0U",
        "outputId": "eeeab4a0-01c5-483b-cfcb-3123c5e4ae29"
      },
      "source": [
        "stepwise_fit = auto_arima(df['NO2'], trace=True,\n",
        "suppress_warnings=True)\n",
        "\n"
      ],
      "execution_count": 252,
      "outputs": [
        {
          "output_type": "stream",
          "name": "stdout",
          "text": [
            "Performing stepwise search to minimize aic\n",
            " ARIMA(2,0,2)(0,0,0)[0] intercept   : AIC=143.821, Time=0.37 sec\n",
            " ARIMA(0,0,0)(0,0,0)[0] intercept   : AIC=147.268, Time=0.01 sec\n",
            " ARIMA(1,0,0)(0,0,0)[0] intercept   : AIC=140.163, Time=0.05 sec\n",
            " ARIMA(0,0,1)(0,0,0)[0] intercept   : AIC=141.068, Time=0.03 sec\n",
            " ARIMA(0,0,0)(0,0,0)[0]             : AIC=197.392, Time=0.01 sec\n",
            " ARIMA(2,0,0)(0,0,0)[0] intercept   : AIC=140.765, Time=0.08 sec\n",
            " ARIMA(1,0,1)(0,0,0)[0] intercept   : AIC=140.923, Time=0.07 sec\n",
            " ARIMA(2,0,1)(0,0,0)[0] intercept   : AIC=142.700, Time=0.10 sec\n",
            " ARIMA(1,0,0)(0,0,0)[0]             : AIC=144.158, Time=0.02 sec\n",
            "\n",
            "Best model:  ARIMA(1,0,0)(0,0,0)[0] intercept\n",
            "Total fit time: 0.748 seconds\n"
          ]
        }
      ]
    },
    {
      "cell_type": "code",
      "metadata": {
        "colab": {
          "base_uri": "https://localhost:8080/"
        },
        "id": "7rE0tpdWnCES",
        "outputId": "dd5a14d6-6fef-471d-afbc-64c9ed3b8a2a"
      },
      "source": [
        "print(df.shape)\n",
        "train=df.iloc[:-5]\n",
        "test=df.iloc[-5:]\n",
        "print(train.shape,test.shape)\n",
        "print(test.iloc[0],test.iloc[-1])"
      ],
      "execution_count": 265,
      "outputs": [
        {
          "output_type": "stream",
          "name": "stdout",
          "text": [
            "(20, 5)\n",
            "(15, 5) (5, 5)\n",
            "NO2               45.9\n",
            "SO2               12.9\n",
            "CO              1503.5\n",
            "Temperature       34.0\n",
            "Humidity          88.0\n",
            "Name: 2021-10-16 00:00:00, dtype: float64 NO2               43.8\n",
            "SO2               10.6\n",
            "CO              1323.3\n",
            "Temperature       30.0\n",
            "Humidity          91.0\n",
            "Name: 2021-10-20 00:00:00, dtype: float64\n"
          ]
        }
      ]
    },
    {
      "cell_type": "code",
      "metadata": {
        "colab": {
          "base_uri": "https://localhost:8080/",
          "height": 412
        },
        "id": "MRKxKuvEnKRB",
        "outputId": "bc68fef8-35b9-4806-c869-b61d8136135f"
      },
      "source": [
        "from statsmodels.tsa.arima.model import ARIMA\n",
        "model=ARIMA(train['NO2'], order=(1,0,0))\n",
        "model=model.fit()\n",
        "model.summary()"
      ],
      "execution_count": 266,
      "outputs": [
        {
          "output_type": "execute_result",
          "data": {
            "text/html": [
              "<table class=\"simpletable\">\n",
              "<caption>SARIMAX Results</caption>\n",
              "<tr>\n",
              "  <th>Dep. Variable:</th>          <td>NO2</td>       <th>  No. Observations:  </th>   <td>15</td>   \n",
              "</tr>\n",
              "<tr>\n",
              "  <th>Model:</th>            <td>ARIMA(1, 0, 0)</td>  <th>  Log Likelihood     </th> <td>-44.477</td>\n",
              "</tr>\n",
              "<tr>\n",
              "  <th>Date:</th>            <td>Sat, 23 Oct 2021</td> <th>  AIC                </th> <td>94.955</td> \n",
              "</tr>\n",
              "<tr>\n",
              "  <th>Time:</th>                <td>10:17:26</td>     <th>  BIC                </th> <td>97.079</td> \n",
              "</tr>\n",
              "<tr>\n",
              "  <th>Sample:</th>             <td>10-01-2021</td>    <th>  HQIC               </th> <td>94.932</td> \n",
              "</tr>\n",
              "<tr>\n",
              "  <th></th>                   <td>- 10-15-2021</td>   <th>                     </th>    <td> </td>   \n",
              "</tr>\n",
              "<tr>\n",
              "  <th>Covariance Type:</th>        <td>opg</td>       <th>                     </th>    <td> </td>   \n",
              "</tr>\n",
              "</table>\n",
              "<table class=\"simpletable\">\n",
              "<tr>\n",
              "     <td></td>       <th>coef</th>     <th>std err</th>      <th>z</th>      <th>P>|z|</th>  <th>[0.025</th>    <th>0.975]</th>  \n",
              "</tr>\n",
              "<tr>\n",
              "  <th>const</th>  <td>   31.7727</td> <td>    7.222</td> <td>    4.399</td> <td> 0.000</td> <td>   17.617</td> <td>   45.928</td>\n",
              "</tr>\n",
              "<tr>\n",
              "  <th>ar.L1</th>  <td>    0.8784</td> <td>    0.189</td> <td>    4.655</td> <td> 0.000</td> <td>    0.509</td> <td>    1.248</td>\n",
              "</tr>\n",
              "<tr>\n",
              "  <th>sigma2</th> <td>   19.9648</td> <td>    8.240</td> <td>    2.423</td> <td> 0.015</td> <td>    3.814</td> <td>   36.115</td>\n",
              "</tr>\n",
              "</table>\n",
              "<table class=\"simpletable\">\n",
              "<tr>\n",
              "  <th>Ljung-Box (L1) (Q):</th>     <td>0.02</td> <th>  Jarque-Bera (JB):  </th> <td>1.87</td> \n",
              "</tr>\n",
              "<tr>\n",
              "  <th>Prob(Q):</th>                <td>0.90</td> <th>  Prob(JB):          </th> <td>0.39</td> \n",
              "</tr>\n",
              "<tr>\n",
              "  <th>Heteroskedasticity (H):</th> <td>0.45</td> <th>  Skew:              </th> <td>-0.85</td>\n",
              "</tr>\n",
              "<tr>\n",
              "  <th>Prob(H) (two-sided):</th>    <td>0.41</td> <th>  Kurtosis:          </th> <td>3.31</td> \n",
              "</tr>\n",
              "</table><br/><br/>Warnings:<br/>[1] Covariance matrix calculated using the outer product of gradients (complex-step)."
            ],
            "text/plain": [
              "<class 'statsmodels.iolib.summary.Summary'>\n",
              "\"\"\"\n",
              "                               SARIMAX Results                                \n",
              "==============================================================================\n",
              "Dep. Variable:                    NO2   No. Observations:                   15\n",
              "Model:                 ARIMA(1, 0, 0)   Log Likelihood                 -44.477\n",
              "Date:                Sat, 23 Oct 2021   AIC                             94.955\n",
              "Time:                        10:17:26   BIC                             97.079\n",
              "Sample:                    10-01-2021   HQIC                            94.932\n",
              "                         - 10-15-2021                                         \n",
              "Covariance Type:                  opg                                         \n",
              "==============================================================================\n",
              "                 coef    std err          z      P>|z|      [0.025      0.975]\n",
              "------------------------------------------------------------------------------\n",
              "const         31.7727      7.222      4.399      0.000      17.617      45.928\n",
              "ar.L1          0.8784      0.189      4.655      0.000       0.509       1.248\n",
              "sigma2        19.9648      8.240      2.423      0.015       3.814      36.115\n",
              "===================================================================================\n",
              "Ljung-Box (L1) (Q):                   0.02   Jarque-Bera (JB):                 1.87\n",
              "Prob(Q):                              0.90   Prob(JB):                         0.39\n",
              "Heteroskedasticity (H):               0.45   Skew:                            -0.85\n",
              "Prob(H) (two-sided):                  0.41   Kurtosis:                         3.31\n",
              "===================================================================================\n",
              "\n",
              "Warnings:\n",
              "[1] Covariance matrix calculated using the outer product of gradients (complex-step).\n",
              "\"\"\""
            ]
          },
          "metadata": {},
          "execution_count": 266
        }
      ]
    },
    {
      "cell_type": "code",
      "metadata": {
        "colab": {
          "base_uri": "https://localhost:8080/",
          "height": 320
        },
        "id": "QtbBEUeEp3GX",
        "outputId": "7d923ec6-fb4d-42bc-cf72-bff5c363faec"
      },
      "source": [
        "start=len(train)\n",
        "end=len(train)+len(test)-1\n",
        "pred=model.predict(start=start,end=end,typ='levels').rename('ARIMA Predictions')\n",
        "pred.plot(legend=True)\n",
        "test['NO2'].plot(legend=True)"
      ],
      "execution_count": 267,
      "outputs": [
        {
          "output_type": "execute_result",
          "data": {
            "text/plain": [
              "<matplotlib.axes._subplots.AxesSubplot at 0x7f8674066ad0>"
            ]
          },
          "metadata": {},
          "execution_count": 267
        },
        {
          "output_type": "display_data",
          "data": {
            "image/png": "[encoded data removed]",
            "text/plain": [
              "<Figure size 432x288 with 1 Axes>"
            ]
          },
          "metadata": {
            "needs_background": "light"
          }
        }
      ]
    },
    {
      "cell_type": "code",
      "metadata": {
        "colab": {
          "base_uri": "https://localhost:8080/"
        },
        "id": "-y5TdJWEq8rx",
        "outputId": "9a32621c-aa02-4cda-e83d-422d4c293120"
      },
      "source": [
        "test['NO2'].mean()"
      ],
      "execution_count": 268,
      "outputs": [
        {
          "output_type": "execute_result",
          "data": {
            "text/plain": [
              "33.6"
            ]
          },
          "metadata": {},
          "execution_count": 268
        }
      ]
    },
    {
      "cell_type": "code",
      "metadata": {
        "colab": {
          "base_uri": "https://localhost:8080/"
        },
        "id": "IP-A7UQYrfq9",
        "outputId": "6a43eeba-1c77-440f-a42a-6ba819aa4899"
      },
      "source": [
        "from sklearn.metrics import mean_squared_error\n",
        "from math import sqrt\n",
        "rsme=sqrt(mean_squared_error(pred, test['NO2']))\n",
        "print(rsme)"
      ],
      "execution_count": 269,
      "outputs": [
        {
          "output_type": "stream",
          "name": "stdout",
          "text": [
            "12.464083994588723\n"
          ]
        }
      ]
    },
    {
      "cell_type": "code",
      "metadata": {
        "colab": {
          "base_uri": "https://localhost:8080/",
          "height": 234
        },
        "id": "bB08sP9jv2rX",
        "outputId": "224ac426-6f1a-4e7f-ec32-07477a6bbc39"
      },
      "source": [
        "model2=ARIMA(df['NO2'], order=(1,0,0))\n",
        "model2=model2.fit\n",
        "df.tail()"
      ],
      "execution_count": 270,
      "outputs": [
        {
          "output_type": "execute_result",
          "data": {
            "text/html": [
              "<div>\n",
              "<style scoped>\n",
              "    .dataframe tbody tr th:only-of-type {\n",
              "        vertical-align: middle;\n",
              "    }\n",
              "\n",
              "    .dataframe tbody tr th {\n",
              "        vertical-align: top;\n",
              "    }\n",
              "\n",
              "    .dataframe thead th {\n",
              "        text-align: right;\n",
              "    }\n",
              "</style>\n",
              "<table border=\"1\" class=\"dataframe\">\n",
              "  <thead>\n",
              "    <tr style=\"text-align: right;\">\n",
              "      <th></th>\n",
              "      <th>NO2</th>\n",
              "      <th>SO2</th>\n",
              "      <th>CO</th>\n",
              "      <th>Temperature</th>\n",
              "      <th>Humidity</th>\n",
              "    </tr>\n",
              "    <tr>\n",
              "      <th>Date</th>\n",
              "      <th></th>\n",
              "      <th></th>\n",
              "      <th></th>\n",
              "      <th></th>\n",
              "      <th></th>\n",
              "    </tr>\n",
              "  </thead>\n",
              "  <tbody>\n",
              "    <tr>\n",
              "      <th>2021-10-16</th>\n",
              "      <td>45.9</td>\n",
              "      <td>12.9</td>\n",
              "      <td>1503.5</td>\n",
              "      <td>34</td>\n",
              "      <td>88</td>\n",
              "    </tr>\n",
              "    <tr>\n",
              "      <th>2021-10-17</th>\n",
              "      <td>22.2</td>\n",
              "      <td>5.9</td>\n",
              "      <td>716.7</td>\n",
              "      <td>35</td>\n",
              "      <td>84</td>\n",
              "    </tr>\n",
              "    <tr>\n",
              "      <th>2021-10-18</th>\n",
              "      <td>23.2</td>\n",
              "      <td>6.7</td>\n",
              "      <td>732.8</td>\n",
              "      <td>31</td>\n",
              "      <td>100</td>\n",
              "    </tr>\n",
              "    <tr>\n",
              "      <th>2021-10-19</th>\n",
              "      <td>32.9</td>\n",
              "      <td>8.1</td>\n",
              "      <td>963.1</td>\n",
              "      <td>24</td>\n",
              "      <td>96</td>\n",
              "    </tr>\n",
              "    <tr>\n",
              "      <th>2021-10-20</th>\n",
              "      <td>43.8</td>\n",
              "      <td>10.6</td>\n",
              "      <td>1323.3</td>\n",
              "      <td>30</td>\n",
              "      <td>91</td>\n",
              "    </tr>\n",
              "  </tbody>\n",
              "</table>\n",
              "</div>"
            ],
            "text/plain": [
              "             NO2   SO2      CO  Temperature   Humidity\n",
              "Date                                                  \n",
              "2021-10-16  45.9  12.9  1503.5            34        88\n",
              "2021-10-17  22.2   5.9   716.7            35        84\n",
              "2021-10-18  23.2   6.7   732.8            31       100\n",
              "2021-10-19  32.9   8.1   963.1            24        96\n",
              "2021-10-20  43.8  10.6  1323.3            30        91"
            ]
          },
          "metadata": {},
          "execution_count": 270
        }
      ]
    },
    {
      "cell_type": "markdown",
      "metadata": {
        "id": "gVWoMmzv4Opa"
      },
      "source": [
        "Future Date"
      ]
    },
    {
      "cell_type": "code",
      "metadata": {
        "colab": {
          "base_uri": "https://localhost:8080/"
        },
        "id": "wc8nzUtJcQdc",
        "outputId": "fe813278-baad-4035-9e1f-84078f4bbe12"
      },
      "source": [
        "\n",
        "index_future_dates=pd.date_range(start='2021-10-20',end='2021-10-25')\n",
        "print(index_future_dates)\n",
        "pred=model.predict(start=len(df),end=len(df)+5,typ='levels').rename('ARIMA Predictions')\n",
        "#print(comp_pred)\n",
        "pred.index=index_future_dates\n",
        "print(pred)"
      ],
      "execution_count": 271,
      "outputs": [
        {
          "output_type": "stream",
          "name": "stdout",
          "text": [
            "DatetimeIndex(['2021-10-20', '2021-10-21', '2021-10-22', '2021-10-23',\n",
            "               '2021-10-24', '2021-10-25'],\n",
            "              dtype='datetime64[ns]', freq='D')\n",
            "2021-10-20    37.850178\n",
            "2021-10-21    37.111359\n",
            "2021-10-22    36.462356\n",
            "2021-10-23    35.892251\n",
            "2021-10-24    35.391452\n",
            "2021-10-25    34.951534\n",
            "Freq: D, Name: ARIMA Predictions, dtype: float64\n"
          ]
        }
      ]
    },
    {
      "cell_type": "code",
      "metadata": {
        "colab": {
          "base_uri": "https://localhost:8080/",
          "height": 360
        },
        "id": "WsWihH-DqJhv",
        "outputId": "a4a77e17-0463-4b1e-d0e0-a9e208868cca"
      },
      "source": [
        "pred.plot(figsize=(12,5), legend=True)"
      ],
      "execution_count": 275,
      "outputs": [
        {
          "output_type": "execute_result",
          "data": {
            "text/plain": [
              "<matplotlib.axes._subplots.AxesSubplot at 0x7f867332a510>"
            ]
          },
          "metadata": {},
          "execution_count": 275
        },
        {
          "output_type": "display_data",
          "data": {
            "image/png": "[encoded data removed]",
            "text/plain": [
              "<Figure size 864x360 with 1 Axes>"
            ]
          },
          "metadata": {
            "needs_background": "light"
          }
        }
      ]
    }
  ]
}