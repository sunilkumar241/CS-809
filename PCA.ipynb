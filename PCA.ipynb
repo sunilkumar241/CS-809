{
  "nbformat": 4,
  "nbformat_minor": 0,
  "metadata": {
    "colab": {
      "name": "Untitled5.ipynb",
      "provenance": [],
      "collapsed_sections": [],
      "include_colab_link": true
    },
    "kernelspec": {
      "name": "python3",
      "display_name": "Python 3"
    }
  },
  "cells": [
    {
      "cell_type": "markdown",
      "metadata": {
        "id": "view-in-github",
        "colab_type": "text"
      },
      "source": [
        "<a href=\"https://colab.research.google.com/github/sunilkumar241/CS-809/blob/master/PCA.ipynb\" target=\"_parent\"><img src=\"https://colab.research.google.com/assets/colab-badge.svg\" alt=\"Open In Colab\"/></a>"
      ]
    },
    {
      "cell_type": "code",
      "metadata": {
        "id": "npvg4QIUGPSB",
        "colab_type": "code",
        "colab": {}
      },
      "source": [
        "import numpy as np\n",
        "import pandas as pd"
      ],
      "execution_count": null,
      "outputs": []
    },
    {
      "cell_type": "code",
      "metadata": {
        "id": "pgT7mnJ0IZzM",
        "colab_type": "code",
        "colab": {
          "base_uri": "https://localhost:8080/",
          "height": 255
        },
        "outputId": "24e62a7a-b376-4179-a06d-ba7f54a48a84"
      },
      "source": [
        "data=pd.read_csv(\"BodyFat.csv\")\n",
        "print(data)"
      ],
      "execution_count": null,
      "outputs": [
        {
          "output_type": "stream",
          "text": [
            "     IDNO  BODYFAT  DENSITY  AGE  WEIGHT  ...  KNEE  ANKLE  BICEPS  FOREARM  WRIST\n",
            "0       1     12.6   1.0708   23  154.25  ...  37.3   21.9    32.0     27.4   17.1\n",
            "1       2      6.9   1.0853   22  173.25  ...  37.3   23.4    30.5     28.9   18.2\n",
            "2       3     24.6   1.0414   22  154.00  ...  38.9   24.0    28.8     25.2   16.6\n",
            "3       4     10.9   1.0751   26  184.75  ...  37.3   22.8    32.4     29.4   18.2\n",
            "4       5     27.8   1.0340   24  184.25  ...  42.2   24.0    32.2     27.7   17.7\n",
            "..    ...      ...      ...  ...     ...  ...   ...    ...     ...      ...    ...\n",
            "247   248     11.5   1.0736   70  134.25  ...  34.8   21.5    25.6     25.7   18.5\n",
            "248   249     32.3   1.0236   72  201.00  ...  40.8   23.2    35.2     28.6   20.1\n",
            "249   250     28.3   1.0328   72  186.75  ...  37.3   21.5    31.3     27.2   18.0\n",
            "250   251     25.3   1.0399   72  190.75  ...  41.6   22.7    30.5     29.4   19.8\n",
            "251   252     30.7   1.0271   74  207.50  ...  42.2   24.6    33.7     30.0   20.9\n",
            "\n",
            "[252 rows x 17 columns]\n"
          ],
          "name": "stdout"
        }
      ]
    },
    {
      "cell_type": "code",
      "metadata": {
        "id": "2Um4uxWvfF1u",
        "colab_type": "code",
        "colab": {}
      },
      "source": [
        "data=data.drop(\"IDNO\",axis=1)"
      ],
      "execution_count": null,
      "outputs": []
    },
    {
      "cell_type": "code",
      "metadata": {
        "id": "XD1iLODYOLr6",
        "colab_type": "code",
        "colab": {
          "base_uri": "https://localhost:8080/",
          "height": 34
        },
        "outputId": "94570a77-5078-4207-c63f-f0fbd3bf9432"
      },
      "source": [
        "import numpy\n",
        "from sklearn.preprocessing import StandardScaler\n",
        "df = StandardScaler().fit_transform(data)\n",
        "print(df.shape)"
      ],
      "execution_count": null,
      "outputs": [
        {
          "output_type": "stream",
          "text": [
            "(252, 16)\n"
          ],
          "name": "stdout"
        }
      ]
    },
    {
      "cell_type": "code",
      "metadata": {
        "id": "kH9YFFCE5yQd",
        "colab_type": "code",
        "colab": {
          "base_uri": "https://localhost:8080/",
          "height": 850
        },
        "outputId": "0cf60abf-7d1c-48f5-b739-60ae1137826a"
      },
      "source": [
        "sample_data = df\n",
        "covar_matrix = numpy.cov(df.T)\n",
        "print(covar_matrix)\n",
        "print ( \"The shape of variance matrix = \", covar_matrix.shape)"
      ],
      "execution_count": null,
      "outputs": [
        {
          "output_type": "stream",
          "text": [
            "[[ 1.00398406 -0.99202333  0.2903256   0.61559896 -0.08946142  0.73089456\n",
            "   0.49344705  0.70568549  0.81694808  0.62819276  0.56352057  0.50980893\n",
            "   0.26784544  0.49499515  0.36472476  0.34895751]\n",
            " [-0.99202333  1.00398406 -0.27874334 -0.59642866  0.09827111 -0.71757958\n",
            "  -0.47485069 -0.68531817 -0.80213772 -0.61175905 -0.55529453 -0.49701263\n",
            "  -0.26594537 -0.4890494  -0.35304941 -0.32701365]\n",
            " [ 0.2903256  -0.27874334  1.00398406 -0.01279688 -0.17232898  0.11932477\n",
            "   0.1139574   0.17715266  0.23132738 -0.05053265 -0.20089295  0.01758547\n",
            "  -0.10547666 -0.04132611 -0.08539442  0.21438133]\n",
            " [ 0.61559896 -0.59642866 -0.01279688  1.00398406  0.30950674  0.89088742\n",
            "   0.83402584  0.89775303  0.89153277  0.94463267  0.87215447  0.85656646\n",
            "   0.61613038  0.80360484  0.63281259  0.73268236]\n",
            " [-0.08946142  0.09827111 -0.17232898  0.30950674  1.00398406 -0.02499011\n",
            "   0.25472068  0.13542923  0.08816276  0.17107312  0.14902698  0.28719286\n",
            "   0.26579845  0.20864352  0.22956017  0.32334846]\n",
            " [ 0.73089456 -0.71757958  0.11932477  0.89088742 -0.02499011  1.00398406\n",
            "   0.78095594  0.91543131  0.92756089  0.88678822  0.81594396  0.7165031\n",
            "   0.50230993  0.74935782  0.56081973  0.62840024]\n",
            " [ 0.49344705 -0.47485069  0.1139574   0.83402584  0.25472068  0.78095594\n",
            "   1.00398406  0.78796188  0.75708166  0.737886    0.69846904  0.67508388\n",
            "   0.47979638  0.73405885  0.62614497  0.74779384]\n",
            " [ 0.70568549 -0.68531817  0.17715266  0.89775303  0.13542923  0.91543131\n",
            "   0.78796188  1.00398406  0.91947639  0.83272438  0.73276635  0.72236292\n",
            "   0.48491214  0.73080751  0.58248418  0.66279245]\n",
            " [ 0.81694808 -0.80213772  0.23132738  0.89153277  0.08816276  0.92756089\n",
            "   0.75708166  0.91947639  1.00398406  0.87754852  0.76967821  0.74011585\n",
            "   0.45502836  0.68771173  0.50532133  0.62230188]\n",
            " [ 0.62819276 -0.61175905 -0.05053265  0.94463267  0.17107312  0.88678822\n",
            "   0.737886    0.83272438  0.87754852  1.00398406  0.89998115  0.82675339\n",
            "   0.56061147  0.74221782  0.54718549  0.63259986]\n",
            " [ 0.56352057 -0.55529453 -0.20089295  0.87215447  0.14902698  0.81594396\n",
            "   0.69846904  0.73276635  0.76967821  0.89998115  1.00398406  0.80235425\n",
            "   0.54194764  0.76451122  0.56910051  0.56091062]\n",
            " [ 0.50980893 -0.49701263  0.01758547  0.85656646  0.28719286  0.7165031\n",
            "   0.67508388  0.72236292  0.74011585  0.82675339  0.80235425  1.00398406\n",
            "   0.61404489  0.68141285  0.55811292  0.66715473]\n",
            " [ 0.26784544 -0.26594537 -0.10547666  0.61613038  0.26579845  0.50230993\n",
            "   0.47979638  0.48491214  0.45502836  0.56061147  0.54194764  0.61404489\n",
            "   1.00398406  0.48678623  0.42071951  0.56845035]\n",
            " [ 0.49499515 -0.4890494  -0.04132611  0.80360484  0.20864352  0.74935782\n",
            "   0.73405885  0.73080751  0.68771173  0.74221782  0.76451122  0.68141285\n",
            "   0.48678623  1.00398406  0.68095734  0.63464486]\n",
            " [ 0.36472476 -0.35304941 -0.08539442  0.63281259  0.22956017  0.56081973\n",
            "   0.62614497  0.58248418  0.50532133  0.54718549  0.56910051  0.55811292\n",
            "   0.42071951  0.68095734  1.00398406  0.58792127]\n",
            " [ 0.34895751 -0.32701365  0.21438133  0.73268236  0.32334846  0.62840024\n",
            "   0.74779384  0.66279245  0.62230188  0.63259986  0.56091062  0.66715473\n",
            "   0.56845035  0.63464486  0.58792127  1.00398406]]\n",
            "The shape of variance matrix =  (16, 16)\n"
          ],
          "name": "stdout"
        }
      ]
    },
    {
      "cell_type": "code",
      "metadata": {
        "id": "hLDG8tV9wTN2",
        "colab_type": "code",
        "colab": {
          "base_uri": "https://localhost:8080/",
          "height": 357
        },
        "outputId": "1cfe9b03-fd8b-4d6e-f26f-093ac2ded4ed"
      },
      "source": [
        "corrMatrix = data.corr() #defining correlation matrix\n",
        "print (corrMatrix)\n",
        "print ( \"The shape of variancecorrelation matrix = \", corrMatrix.shape)"
      ],
      "execution_count": null,
      "outputs": [
        {
          "output_type": "stream",
          "text": [
            "            BODYFAT   DENSITY       AGE  ...    BICEPS   FOREARM     WRIST\n",
            "BODYFAT    1.000000 -0.988087  0.289174  ...  0.493031  0.363277  0.347573\n",
            "DENSITY   -0.988087  1.000000 -0.277637  ... -0.487109 -0.351648 -0.325716\n",
            "AGE        0.289174 -0.277637  1.000000  ... -0.041162 -0.085056  0.213531\n",
            "WEIGHT     0.613156 -0.594062 -0.012746  ...  0.800416  0.630301  0.729775\n",
            "HEIGHT    -0.089106  0.097881 -0.171645  ...  0.207816  0.228649  0.322065\n",
            "ADIPOSITY  0.727994 -0.714732  0.118851  ...  0.746384  0.558594  0.625907\n",
            "NECK       0.491489 -0.472966  0.113505  ...  0.731146  0.623660  0.744826\n",
            "CHEST      0.702885 -0.682599  0.176450  ...  0.727907  0.580173  0.660162\n",
            "ABDOMEN    0.813706 -0.798955  0.230409  ...  0.684983  0.503316  0.619832\n",
            "HIP        0.625700 -0.609331 -0.050332  ...  0.739273  0.545014  0.630090\n",
            "THIGH      0.561284 -0.553091 -0.200096  ...  0.761477  0.566842  0.558685\n",
            "KNEE       0.507786 -0.495040  0.017516  ...  0.678709  0.555898  0.664507\n",
            "ANKLE      0.266783 -0.264890 -0.105058  ...  0.484855  0.419050  0.566195\n",
            "BICEPS     0.493031 -0.487109 -0.041162  ...  1.000000  0.678255  0.632126\n",
            "FOREARM    0.363277 -0.351648 -0.085056  ...  0.678255  1.000000  0.585588\n",
            "WRIST      0.347573 -0.325716  0.213531  ...  0.632126  0.585588  1.000000\n",
            "\n",
            "[16 rows x 16 columns]\n",
            "The shape of variancecorrelation matrix =  (16, 16)\n"
          ],
          "name": "stdout"
        }
      ]
    },
    {
      "cell_type": "code",
      "metadata": {
        "id": "4iRMt5HVRgxF",
        "colab_type": "code",
        "colab": {
          "base_uri": "https://localhost:8080/",
          "height": 68
        },
        "outputId": "fe10b35c-4a4d-49b6-8a0a-3161ecbf34c1"
      },
      "source": [
        "eig_values, eig_vectors = np.linalg.eig(corrMatrix) #computing eigen values and eigen vector using Lingalg.eig()\n",
        "print(eig_values)\n"
      ],
      "execution_count": null,
      "outputs": [
        {
          "output_type": "stream",
          "text": [
            "[9.77673901 1.93527587 1.08406418 0.71308511 0.65387211 0.51301292\n",
            " 0.31923652 0.26233662 0.22416034 0.18430129 0.13208077 0.01103317\n",
            " 0.07709517 0.02345977 0.04058785 0.04965932]\n"
          ],
          "name": "stdout"
        }
      ]
    },
    {
      "cell_type": "code",
      "metadata": {
        "id": "6v2caq8zSrie",
        "colab_type": "code",
        "colab": {
          "base_uri": "https://localhost:8080/",
          "height": 850
        },
        "outputId": "14c88769-2caf-4910-dd71-2285fb29f623"
      },
      "source": [
        "print('Eigenvectors ',eig_vectors)\n",
        "print('shape of Eigenvectors =',eig_vectors.shape)"
      ],
      "execution_count": null,
      "outputs": [
        {
          "output_type": "stream",
          "text": [
            "Eigenvectors  [[-0.23288808 -0.41096554 -0.09970085  0.28715478 -0.13497013  0.28937207\n",
            "  -0.02773416  0.01223896 -0.22289342 -0.02857962 -0.04631494 -0.71036437\n",
            "  -0.02306917  0.05733302  0.11413858 -0.08655908]\n",
            " [ 0.22812621  0.41418638  0.11719168 -0.29481412  0.13242538 -0.31552449\n",
            "   0.02537825 -0.04904323  0.23634008  0.04689151  0.0508671  -0.69783024\n",
            "   0.01382871  0.02434311 -0.08472913  0.00667398]\n",
            " [-0.02704686 -0.44116593  0.70652935 -0.073248    0.12542265 -0.03558221\n",
            "   0.27388965  0.15718468  0.2558197  -0.11402451  0.30298219  0.0121906\n",
            "   0.06227602  0.04072399  0.07240788 -0.04691302]\n",
            " [-0.30952265  0.09697852 -0.01870917  0.068773    0.02528097 -0.16317656\n",
            "  -0.02916258 -0.06070495  0.11428681  0.06116268  0.00916835  0.07051921\n",
            "  -0.18488738  0.87483476  0.03278082 -0.18829957]\n",
            " [-0.06601034  0.45935163  0.33770503  0.69494725 -0.33142252 -0.02370028\n",
            "  -0.0638323   0.0621241   0.09918199  0.03016399  0.13230932 -0.00926022\n",
            "   0.07106318 -0.08595856  0.07964958  0.14894444]\n",
            " [-0.29808427 -0.13048434 -0.09867646 -0.1393102   0.06546132 -0.14778536\n",
            "  -0.2099746  -0.05108397  0.16287069  0.12466851  0.07383563 -0.02704298\n",
            "   0.05842572  0.01194459  0.39085268  0.76653535]\n",
            " [-0.27178834  0.08400583  0.19043825 -0.19179496 -0.13832524 -0.21158967\n",
            "  -0.3876552  -0.03318384 -0.20684371 -0.74882612 -0.08373816 -0.00231343\n",
            "  -0.08672212 -0.08972365  0.0167531  -0.06592622]\n",
            " [-0.29473701 -0.09379545  0.05441622 -0.02059312 -0.04515153 -0.14009497\n",
            "  -0.26372035 -0.13509424  0.39998175  0.25353173 -0.38448417  0.02583959\n",
            "   0.42760128 -0.20682316  0.13498949 -0.41818995]\n",
            " [-0.29770225 -0.18600806  0.00711291  0.11227718  0.00745898 -0.14809973\n",
            "  -0.09756727 -0.12694298  0.13505893  0.10483096  0.0463754  -0.0254603\n",
            "  -0.12253615 -0.10752567 -0.84697813  0.20128678]\n",
            " [-0.29675137  0.03672213 -0.16681554  0.05897763  0.11743266 -0.24346584\n",
            "   0.11653636 -0.10534511  0.05856668  0.13310493  0.36408444  0.01274738\n",
            "  -0.56915685 -0.38582334  0.25384838 -0.30072387]\n",
            " [-0.27964521  0.10274086 -0.30707775 -0.00721273  0.05571437 -0.16264219\n",
            "   0.25146248  0.0821421  -0.17905379 -0.13604748  0.49801724 -0.00391559\n",
            "   0.63606337  0.01099673 -0.0736536  -0.09289105]\n",
            " [-0.27235885  0.13198699  0.01111765  0.11797761  0.208972   -0.05904916\n",
            "   0.67967026 -0.13548109  0.01241168 -0.2275452  -0.53164474 -0.01323432\n",
            "  -0.01979244 -0.07407157  0.03179137  0.15891416]\n",
            " [-0.1962752   0.26083183  0.034257    0.07144354  0.67546044  0.54910332\n",
            "  -0.25270336  0.12405745  0.16450137 -0.1125629   0.07754767 -0.0140227\n",
            "   0.00670446 -0.03666975 -0.04437815 -0.02922596]\n",
            " [-0.26629974  0.12082127 -0.04717638 -0.23144717 -0.23109633  0.03272215\n",
            "   0.07675122  0.8559547   0.04910907  0.13535566 -0.14930267 -0.02264081\n",
            "  -0.12187173 -0.05164366 -0.0678964  -0.00116652]\n",
            " [-0.21701211  0.1931656   0.03834851 -0.38884188 -0.4791524   0.53688727\n",
            "   0.18798688 -0.35348278  0.22978253 -0.01442646  0.17119889  0.00472729\n",
            "  -0.03622766 -0.00634055 -0.03135359  0.01117337]\n",
            " [-0.24006835  0.16665045  0.43198888 -0.2025787   0.11277952  0.00590274\n",
            "  -0.03685044 -0.13386162 -0.66382629  0.45670456 -0.05097186  0.00842332\n",
            "   0.04748396 -0.0262193  -0.00736791 -0.00117999]]\n",
            "shape of Eigenvectors = (16, 16)\n"
          ],
          "name": "stdout"
        }
      ]
    },
    {
      "cell_type": "code",
      "metadata": {
        "id": "u3SyRkumWeBl",
        "colab_type": "code",
        "colab": {
          "base_uri": "https://localhost:8080/",
          "height": 34
        },
        "outputId": "349f2b1e-4456-4f2c-a14a-01acae59f3eb"
      },
      "source": [
        "sum_eign=sum(eig_values)\n",
        "print(sum_eign)"
      ],
      "execution_count": null,
      "outputs": [
        {
          "output_type": "stream",
          "text": [
            "16.00000000000001\n"
          ],
          "name": "stdout"
        }
      ]
    },
    {
      "cell_type": "code",
      "metadata": {
        "id": "c_PJMUK0dPQQ",
        "colab_type": "code",
        "colab": {}
      },
      "source": [
        "cov_per=[]\n",
        "for i in eig_values:\n",
        "  j=(i/sum_eign)*100\n",
        "  cov_per.append(j)"
      ],
      "execution_count": null,
      "outputs": []
    },
    {
      "cell_type": "code",
      "metadata": {
        "id": "wP9CxfQL-RxL",
        "colab_type": "code",
        "colab": {
          "base_uri": "https://localhost:8080/",
          "height": 54
        },
        "outputId": "c175f081-0e66-4730-f7f4-50437c954fe4"
      },
      "source": [
        "print(cov_per)"
      ],
      "execution_count": null,
      "outputs": [
        {
          "output_type": "stream",
          "text": [
            "[61.104618806499424, 12.09547415700337, 6.775401104274917, 4.456781912928659, 4.086700718068843, 3.2063307335701543, 1.9952282798215764, 1.639603893909743, 1.4010020940915189, 1.1518830711923984, 0.8255047891072623, 0.0689572981457188, 0.48184478635529304, 0.14662356600928553, 0.25367406195025727, 0.31037072707156227]\n"
          ],
          "name": "stdout"
        }
      ]
    },
    {
      "cell_type": "code",
      "metadata": {
        "id": "I6TDy3V8-Uvf",
        "colab_type": "code",
        "colab": {}
      },
      "source": [
        "# getting 2 features which cover maximum \n",
        "max1=0\n",
        "max2=1\n",
        "max=[]\n",
        "for k in cov_per:\n",
        "  if k> cov_per[max1]:\n",
        "    max1=cov_per.index(k)\n",
        "    max2=max1\n",
        "max.append(max1)\n",
        "max.append(max2)\n"
      ],
      "execution_count": null,
      "outputs": []
    },
    {
      "cell_type": "code",
      "metadata": {
        "id": "KFZYjQQy_4O7",
        "colab_type": "code",
        "colab": {
          "base_uri": "https://localhost:8080/",
          "height": 34
        },
        "outputId": "236ae3d1-938c-47ee-ee00-a29c8fc35ac9"
      },
      "source": [
        "# item which cover maximum features \n",
        "print(*max)"
      ],
      "execution_count": null,
      "outputs": [
        {
          "output_type": "stream",
          "text": [
            "0 1\n"
          ],
          "name": "stdout"
        }
      ]
    },
    {
      "cell_type": "code",
      "metadata": {
        "id": "xr_TlVBf_7Et",
        "colab_type": "code",
        "colab": {}
      },
      "source": [
        "e_vectors=np.ndarray.copy(eig_vectors[[0,1]])"
      ],
      "execution_count": null,
      "outputs": []
    },
    {
      "cell_type": "code",
      "metadata": {
        "id": "2J8ybYeVBfAI",
        "colab_type": "code",
        "colab": {
          "base_uri": "https://localhost:8080/",
          "height": 34
        },
        "outputId": "54cf01ef-ba8e-4530-daaf-17cbb3870d82"
      },
      "source": [
        "print(e_vectors.shape)"
      ],
      "execution_count": null,
      "outputs": [
        {
          "output_type": "stream",
          "text": [
            "(2, 16)\n"
          ],
          "name": "stdout"
        }
      ]
    },
    {
      "cell_type": "code",
      "metadata": {
        "id": "GaEjo1pOEnlM",
        "colab_type": "code",
        "colab": {
          "base_uri": "https://localhost:8080/",
          "height": 34
        },
        "outputId": "b650b161-a6e7-4e55-d2c4-7439e77684a6"
      },
      "source": [
        "import matplotlib.pyplot as plt\n",
        "new_coordinates = np.matmul(e_vectors, sample_data.T)\n",
        "\n",
        "print (\" resultanat new data points' shape \", e_vectors.shape, \"X\", sample_data.T.shape,\" = \", new_coordinates.shape)"
      ],
      "execution_count": null,
      "outputs": [
        {
          "output_type": "stream",
          "text": [
            " resultanat new data points' shape  (2, 16) X (16, 252)  =  (2, 252)\n"
          ],
          "name": "stdout"
        }
      ]
    },
    {
      "cell_type": "code",
      "metadata": {
        "id": "cqXD2WEMJLeR",
        "colab_type": "code",
        "colab": {
          "base_uri": "https://localhost:8080/",
          "height": 119
        },
        "outputId": "ca8296db-4cc2-4f5d-b2c2-67837d9fda19"
      },
      "source": [
        "import pandas as pd\n",
        "new_coordinates = np.vstack(new_coordinates).T\n",
        "# creating a new data frame for ploting \n",
        "dataframe = pd.DataFrame(data=new_coordinates,columns=(\"1\", \"2\"))\n",
        "print(dataframe.head())"
      ],
      "execution_count": null,
      "outputs": [
        {
          "output_type": "stream",
          "text": [
            "          1         2\n",
            "0  0.356090  0.485262\n",
            "1  0.157501  0.564553\n",
            "2  0.080601 -0.276253\n",
            "3  0.462192  0.286556\n",
            "4 -0.853977 -1.238134\n"
          ],
          "name": "stdout"
        }
      ]
    },
    {
      "cell_type": "code",
      "metadata": {
        "id": "PRRUxSX4h_XA",
        "colab_type": "code",
        "colab": {
          "base_uri": "https://localhost:8080/",
          "height": 299
        },
        "outputId": "69467af6-0408-43f2-9ebd-884d11d8c089"
      },
      "source": [
        "import matplotlib.pyplot as plt\n",
        "sum1=eig_values[0]+eig_values[1]\n",
        "print(\"Covarience\",(sum1/sum_eign)*100,\"%\")\n",
        "ax1 = dataframe.plot.scatter(x='1',y='2',s=10,c='blue')\n",
        "plt.show()"
      ],
      "execution_count": null,
      "outputs": [
        {
          "output_type": "stream",
          "text": [
            "Covarience 73.20009296350281 %\n"
          ],
          "name": "stdout"
        },
        {
          "output_type": "display_data",
          "data": {
            "image/png": "[encoded data removed]",
            "text/plain": [
              "<Figure size 432x288 with 1 Axes>"
            ]
          },
          "metadata": {
            "tags": [],
            "needs_background": "light"
          }
        }
      ]
    }
  ]
}