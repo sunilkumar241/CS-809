{
  "nbformat": 4,
  "nbformat_minor": 0,
  "metadata": {
    "colab": {
      "name": "Untitled11.ipynb",
      "provenance": [],
      "authorship_tag": "ABX9TyM4eAxpybYqVrMglpFQjOjZ",
      "include_colab_link": true
    },
    "kernelspec": {
      "name": "python3",
      "display_name": "Python 3"
    }
  },
  "cells": [
    {
      "cell_type": "markdown",
      "metadata": {
        "id": "view-in-github",
        "colab_type": "text"
      },
      "source": [
        "<a href=\"https://colab.research.google.com/github/sunilkumar241/CS-809/blob/master/mm1.ipynb\" target=\"_parent\"><img src=\"https://colab.research.google.com/assets/colab-badge.svg\" alt=\"Open In Colab\"/></a>"
      ]
    },
    {
      "cell_type": "code",
      "metadata": {
        "colab": {
          "base_uri": "https://localhost:8080/",
          "height": 129
        },
        "id": "_LNH_cDVxVqh",
        "outputId": "22999890-9055-45b2-e39c-6cbeed021d5a"
      },
      "source": [
        "{\r\n",
        " \"cells\": [\r\n",
        "  {\r\n",
        "   \"cell_type\": \"markdown\",\r\n",
        "   \"metadata\": {},\r\n",
        "   \"source\": [\r\n",
        "    \"# This notebook inspired from https://en.wikipedia.org/wiki/M/M/1_queue\"\r\n",
        "   ]\r\n",
        "  },\r\n",
        "  {\r\n",
        "   \"cell_type\": \"code\",\r\n",
        "   \"execution_count\": 1,\r\n",
        "   \"metadata\": {},\r\n",
        "   \"outputs\": [],\r\n",
        "   \"source\": [\r\n",
        "    \"# Importing bunch of libraries\\n\",\r\n",
        "    \"import numpy as np\\n\",\r\n",
        "    \"import queue\\n\",\r\n",
        "    \"import copy\\n\",\r\n",
        "    \"import matplotlib.pyplot as plt\"\r\n",
        "   ]\r\n",
        "  },\r\n",
        "  {\r\n",
        "   \"cell_type\": \"markdown\",\r\n",
        "   \"metadata\": {},\r\n",
        "   \"source\": [\r\n",
        "    \"Some points are consider as\\n\",\r\n",
        "    \"\\n\",\r\n",
        "    \"We assume Pn denote the probability of n customers in the system.\\n\",\r\n",
        "    \"\\n\",\r\n",
        "    \"Arrival occurs at the rate of λ where λ is poisson process.\\n\",\r\n",
        "    \"\\n\",\r\n",
        "    \"Service times are exponentially distributed with rate parameter μ.\\n\",\r\n",
        "    \"\\n\",\r\n",
        "    \"A single server serves one customer at single moment on FCFS basis.\\n\",\r\n",
        "    \"\\n\",\r\n",
        "    \"Suppose the system is in state n. Then, (λ+μ)Pn = λPn−1 + μPn+1\\n\",\r\n",
        "    \"\\n\",\r\n",
        "    \"(λ+μ)Pn: rate of an arrival or departure to Pn λPn−1: rate of an arrival to Pn−1 μPn+1: rate of a departure from Pn+1\"\r\n",
        "   ]\r\n",
        "  },\r\n",
        "  {\r\n",
        "   \"cell_type\": \"code\",\r\n",
        "   \"execution_count\": 2,\r\n",
        "   \"metadata\": {},\r\n",
        "   \"outputs\": [\r\n",
        "    {\r\n",
        "     \"name\": \"stdout\",\r\n",
        "     \"output_type\": \"stream\",\r\n",
        "     \"text\": [\r\n",
        "      \"Enter time for simulation (Hours): 100\\n\",\r\n",
        "      \"Enter Job Arrival Rate (/Hour): 1\\n\",\r\n",
        "      \"Enter Job Service Rate (/Hour): 5\\n\",\r\n",
        "      \"200\\n\",\r\n",
        "      \"[2011, 1839, 819, 33, 2397, 784, 414, 584, 76, 372, 65, 197, 749, 377, 128, 1781, 372, 872, 1754, 401, 91, 371, 681, 57, 3112, 843, 376, 115, 137, 684, 588, 888, 67, 674, 463, 1862, 1107, 14, 83, 74, 253, 99, 126, 187, 431, 67, 3222, 966, 165, 956, 337, 955, 2359, 408, 237, 480, 220, 752, 691, 325, 37, 210, 760, 661, 3, 1143, 582, 2088, 1325, 3202, 1571, 122, 548, 301, 1339, 277, 296, 403, 1181, 91, 951, 1551, 1076, 679, 110, 397, 329, 839, 51, 298, 816, 346, 2694, 96, 629, 1347, 102, 336, 63, 111, 1, 867, 3379, 670, 1225, 661, 402, 772, 1883, 925, 216, 1088, 134, 160, 723, 787, 925, 104, 955, 302, 372, 2628, 225, 966, 551, 342, 165, 309, 2352, 2424, 550, 160, 395, 1057, 229, 922, 138, 167, 146, 2411, 32, 737, 2063, 34, 8, 140, 785, 2417, 625, 2612, 41, 522, 1937, 564, 450, 428, 112, 94, 758, 694, 324, 1149, 904, 1405, 149, 80, 195, 1316, 90, 417, 320, 433, 466, 268, 797, 1059, 233, 1248, 328, 1925, 479, 354, 349, 12, 151, 242, 1056, 103, 221, 90, 423, 176, 943, 145, 964, 341, 157, 2113, 1336, 371]\\n\"\r\n",
        "     ]\r\n",
        "    },"
      ],
      "execution_count": null,
      "outputs": [
        {
          "output_type": "error",
          "ename": "SyntaxError",
          "evalue": "ignored",
          "traceback": [
            "\u001b[0;36m  File \u001b[0;32m\"<ipython-input-1-82851a7713f7>\"\u001b[0;36m, line \u001b[0;32m57\u001b[0m\n\u001b[0;31m    },\u001b[0m\n\u001b[0m      ^\u001b[0m\n\u001b[0;31mSyntaxError\u001b[0m\u001b[0;31m:\u001b[0m unexpected EOF while parsing\n"
          ]
        }
      ]
    }
  ]
}