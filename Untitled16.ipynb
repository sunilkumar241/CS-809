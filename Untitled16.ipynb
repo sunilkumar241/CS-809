{
  "nbformat": 4,
  "nbformat_minor": 0,
  "metadata": {
    "colab": {
      "name": "Untitled16.ipynb",
      "provenance": [],
      "authorship_tag": "ABX9TyNQkhyMTCWBfBD9e7Ob10xI",
      "include_colab_link": true
    },
    "kernelspec": {
      "name": "python3",
      "display_name": "Python 3"
    },
    "language_info": {
      "name": "python"
    }
  },
  "cells": [
    {
      "cell_type": "markdown",
      "metadata": {
        "id": "view-in-github",
        "colab_type": "text"
      },
      "source": [
        "<a href=\"https://colab.research.google.com/github/sunilkumar241/CS-809/blob/master/Untitled16.ipynb\" target=\"_parent\"><img src=\"https://colab.research.google.com/assets/colab-badge.svg\" alt=\"Open In Colab\"/></a>"
      ]
    },
    {
      "cell_type": "code",
      "metadata": {
        "colab": {
          "base_uri": "https://localhost:8080/"
        },
        "id": "NDyp7d8v2fcz",
        "outputId": "cc10d7af-b821-40ac-a66c-615d24f0f244"
      },
      "source": [
        "import numpy as np\n",
        "import matplotlib.pyplot as plt\n",
        "import pandas as pd\n",
        "dataset = pd.read_csv('salary_data.csv')\n",
        "print(dataset)\n",
        "print(\"Total samples in our dataset is: {}\".format(X.shape[0]))\n",
        "X = dataset.iloc[:, :-1].values #get a copy of dataset exclude last column\n",
        "y = dataset.iloc[:, 1].values #get array of dataset in column 1st\n"
      ],
      "execution_count": 139,
      "outputs": [
        {
          "output_type": "stream",
          "name": "stdout",
          "text": [
            "    date   so2\n",
            "0      1   8.0\n",
            "1      2   7.5\n",
            "2      3   7.5\n",
            "3      4   9.8\n",
            "4      5  10.5\n",
            "5      6  10.8\n",
            "6      7  10.0\n",
            "7      8   5.8\n",
            "8      9  10.3\n",
            "9     10  11.5\n",
            "10    11   7.8\n",
            "11    12   9.3\n",
            "12    13   9.3\n",
            "13    14  10.8\n",
            "14    15   8.3\n",
            "15    16  12.0\n",
            "16    17  13.0\n",
            "17    18   8.8\n",
            "18    19   9.3\n",
            "19    20  16.8\n",
            "20    21   6.0\n",
            "21    22  10.8\n",
            "22    23   8.0\n",
            "23    24  11.8\n",
            "24    25   7.0\n",
            "25    26   6.8\n",
            "26    27   5.5\n",
            "27    28   6.0\n",
            "28    29  10.0\n",
            "Total samples in our dataset is: 29\n"
          ]
        }
      ]
    },
    {
      "cell_type": "code",
      "metadata": {
        "id": "UzX9BfPFg1K0"
      },
      "source": [
        "from sklearn.model_selection import train_test_split \n",
        "X_train, X_test, y_train, y_test = train_test_split(X, y, test_size=1/3, random_state=0)"
      ],
      "execution_count": 140,
      "outputs": []
    },
    {
      "cell_type": "code",
      "metadata": {
        "colab": {
          "base_uri": "https://localhost:8080/"
        },
        "id": "SkTVLTtPhDZs",
        "outputId": "f1e47a3e-a712-46a9-c7bb-b4cdd031abd0"
      },
      "source": [
        "# Fitting Simple Linear Regression to the Training set\n",
        "from sklearn.linear_model import LinearRegression\n",
        "regressor = LinearRegression()\n",
        "regressor.fit(X_train, y_train)"
      ],
      "execution_count": 141,
      "outputs": [
        {
          "output_type": "execute_result",
          "data": {
            "text/plain": [
              "LinearRegression(copy_X=True, fit_intercept=True, n_jobs=None, normalize=False)"
            ]
          },
          "metadata": {},
          "execution_count": 141
        }
      ]
    },
    {
      "cell_type": "code",
      "metadata": {
        "colab": {
          "base_uri": "https://localhost:8080/",
          "height": 573
        },
        "id": "Oip6NYM_hPhZ",
        "outputId": "0cb604fd-0bc5-4e4d-af5b-7c7a3040ed42"
      },
      "source": [
        "viz_train = plt\n",
        "viz_train.scatter(X_train, y_train, color='red')\n",
        "viz_train.plot(X_train, regressor.predict(X_train), color='blue')\n",
        "viz_train.title('so2 VS date (Training set)')\n",
        "viz_train.xlabel('date')\n",
        "viz_train.ylabel('so2')\n",
        "viz_train.show()\n",
        "\n",
        "\n",
        "viz_test = plt\n",
        "viz_test.scatter(X_test, y_test, color='red')\n",
        "viz_test.plot(X_train, regressor.predict(X_train), color='blue')\n",
        "viz_test.title('so2 VS date (Test set)')\n",
        "viz_test.xlabel('date')\n",
        "viz_test.ylabel('so2')\n",
        "viz_test.show()"
      ],
      "execution_count": 142,
      "outputs": [
        {
          "output_type": "display_data",
          "data": {
            "image/png": "[encoded data removed]",
            "text/plain": [
              "<Figure size 432x288 with 1 Axes>"
            ]
          },
          "metadata": {
            "needs_background": "light"
          }
        },
        {
          "output_type": "display_data",
          "data": {
            "image/png": "[encoded data removed]",
            "text/plain": [
              "<Figure size 432x288 with 1 Axes>"
            ]
          },
          "metadata": {
            "needs_background": "light"
          }
        }
      ]
    }
  ]
}